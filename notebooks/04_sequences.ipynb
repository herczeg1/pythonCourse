{
 "cells": [
  {
   "cell_type": "code",
   "execution_count": 1,
   "metadata": {},
   "outputs": [],
   "source": [
    "#sequence\n",
    "\n",
    "\n",
    "\n"
   ]
  },
  {
   "cell_type": "code",
   "execution_count": 1,
   "metadata": {},
   "outputs": [
    {
     "name": "stdout",
     "output_type": "stream",
     "text": [
      "Please enter an IP address: 1.5.6.7.8.9\n",
      "there are 5 dots and 6 octets\n",
      "length: 1\n",
      "length: 1\n",
      "length: 1\n",
      "length: 1\n",
      "length: 1\n",
      "length: 1\n"
     ]
    }
   ],
   "source": [
    "prompt = \"Please enter an IP address: \"\n",
    "ip_add = input(prompt)\n",
    "count_dots = ip_add.count('.')\n",
    "octets = ip_add.split(\".\")\n",
    "print(\"there are {} dots and {} octets\".format(count_dots, len(octets)))\n",
    "for octet in octets:\n",
    "    print(\"length: {}\".format(len(octet)))\n",
    "\n"
   ]
  },
  {
   "cell_type": "code",
   "execution_count": 2,
   "metadata": {},
   "outputs": [
    {
     "name": "stdout",
     "output_type": "stream",
     "text": [
      "length: 1\n",
      "length: 1\n",
      "length: 1\n",
      "length: 1\n",
      "length: 1\n",
      "length: 1\n"
     ]
    }
   ],
   "source": [
    "for octets in ip_add.split(\".\"):\n",
    "    print(\"length: {}\".format(len(octet)))"
   ]
  },
  {
   "cell_type": "code",
   "execution_count": 16,
   "metadata": {},
   "outputs": [
    {
     "name": "stdout",
     "output_type": "stream",
     "text": [
      "<class 'str'>\n",
      "d\n",
      "a\n",
      "d\n",
      "a\n",
      "u\n",
      "m\n",
      "p\n",
      "a\n",
      "####################\n",
      "<class 'list'>\n",
      "one\n",
      "two\n",
      "three\n",
      "four\n",
      "####################\n",
      "<class 'tuple'>\n",
      "one\n",
      "two\n",
      "three\n",
      "four\n",
      "####################\n",
      "<class 'set'>\n",
      "1\n",
      "2\n",
      "3\n",
      "4\n",
      "####################\n"
     ]
    }
   ],
   "source": [
    "#sequences\n",
    "\n",
    "string = \"dadaumpa\"\n",
    "alist = ['one', 'two', 'three', 'four']\n",
    "atuple = ('one', 'two', 'three', 'four')\n",
    "aset = {1,2,3,4}\n",
    "\n",
    "\n",
    "\n",
    "superList = [string, alist, atuple, aset]\n",
    "\n",
    "for element in superList:\n",
    "    print(type(element))\n",
    "    for component in element:\n",
    "        print(component)\n",
    "    print(20*'#')"
   ]
  },
  {
   "cell_type": "code",
   "execution_count": 20,
   "metadata": {},
   "outputs": [
    {
     "name": "stdout",
     "output_type": "stream",
     "text": [
      "c\n",
      "7\n",
      "m\n",
      "i\n",
      "c\n",
      "h\n",
      "e\n",
      "l\n",
      "e\n"
     ]
    }
   ],
   "source": [
    "myname = 'michele'\n",
    "print(myname[2])  #[2] is the index\n",
    "print(len(myname))\n",
    "\n",
    "for letter in myname: print(letter)"
   ]
  },
  {
   "cell_type": "code",
   "execution_count": 24,
   "metadata": {},
   "outputs": [
    {
     "data": {
      "text/plain": [
       "'mi'"
      ]
     },
     "execution_count": 24,
     "metadata": {},
     "output_type": "execute_result"
    }
   ],
   "source": [
    "myname[:2]\n"
   ]
  },
  {
   "cell_type": "code",
   "execution_count": 25,
   "metadata": {},
   "outputs": [
    {
     "data": {
      "text/plain": [
       "'ch'"
      ]
     },
     "execution_count": 25,
     "metadata": {},
     "output_type": "execute_result"
    }
   ],
   "source": [
    "myname[2:4]"
   ]
  },
  {
   "cell_type": "code",
   "execution_count": 26,
   "metadata": {},
   "outputs": [
    {
     "data": {
      "text/plain": [
       "'chele'"
      ]
     },
     "execution_count": 26,
     "metadata": {},
     "output_type": "execute_result"
    }
   ],
   "source": [
    "myname[2:]"
   ]
  },
  {
   "cell_type": "code",
   "execution_count": 28,
   "metadata": {},
   "outputs": [
    {
     "ename": "TypeError",
     "evalue": "'str' object does not support item assignment",
     "output_type": "error",
     "traceback": [
      "\u001b[0;31m---------------------------------------------------------------------------\u001b[0m",
      "\u001b[0;31mTypeError\u001b[0m                                 Traceback (most recent call last)",
      "\u001b[0;32m<ipython-input-28-c17c88b0cabb>\u001b[0m in \u001b[0;36m<module>\u001b[0;34m\u001b[0m\n\u001b[0;32m----> 1\u001b[0;31m \u001b[0mmyname\u001b[0m\u001b[0;34m[\u001b[0m\u001b[0;36m1\u001b[0m\u001b[0;34m]\u001b[0m \u001b[0;34m=\u001b[0m \u001b[0;34m'z'\u001b[0m \u001b[0;31m#immutable\u001b[0m\u001b[0;34m\u001b[0m\u001b[0;34m\u001b[0m\u001b[0m\n\u001b[0m",
      "\u001b[0;31mTypeError\u001b[0m: 'str' object does not support item assignment"
     ]
    }
   ],
   "source": [
    "myname[1] = 'z' #immutable"
   ]
  },
  {
   "cell_type": "code",
   "execution_count": 30,
   "metadata": {},
   "outputs": [
    {
     "data": {
      "text/plain": [
       "2"
      ]
     },
     "execution_count": 30,
     "metadata": {},
     "output_type": "execute_result"
    }
   ],
   "source": [
    "#search a letter in a string\n",
    "myname.find('c')"
   ]
  },
  {
   "cell_type": "code",
   "execution_count": 32,
   "metadata": {},
   "outputs": [
    {
     "data": {
      "text/plain": [
       "'Michele'"
      ]
     },
     "execution_count": 32,
     "metadata": {},
     "output_type": "execute_result"
    }
   ],
   "source": [
    "myname.capitalize() #write . and TAB\n",
    "myname."
   ]
  },
  {
   "cell_type": "code",
   "execution_count": 34,
   "metadata": {},
   "outputs": [
    {
     "data": {
      "text/plain": [
       "True"
      ]
     },
     "execution_count": 34,
     "metadata": {},
     "output_type": "execute_result"
    }
   ],
   "source": [
    "'e' in myname"
   ]
  },
  {
   "cell_type": "code",
   "execution_count": 35,
   "metadata": {},
   "outputs": [],
   "source": [
    "#check if all letter of a string are in a different string\n",
    "def are_all_letters_in(this_letters, in_this_string):\n",
    "    pass"
   ]
  },
  {
   "cell_type": "code",
   "execution_count": null,
   "metadata": {},
   "outputs": [],
   "source": [
    "#wordplay from think python"
   ]
  }
 ],
 "metadata": {
  "kernelspec": {
   "display_name": "Python 3",
   "language": "python",
   "name": "python3"
  },
  "language_info": {
   "codemirror_mode": {
    "name": "ipython",
    "version": 3
   },
   "file_extension": ".py",
   "mimetype": "text/x-python",
   "name": "python",
   "nbconvert_exporter": "python",
   "pygments_lexer": "ipython3",
   "version": "3.9.0"
  }
 },
 "nbformat": 4,
 "nbformat_minor": 2
}
