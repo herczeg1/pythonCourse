{
 "cells": [
  {
   "cell_type": "code",
   "execution_count": null,
   "metadata": {},
   "outputs": [],
   "source": [
    "# indentation to avoid clattering w/ delimiters\n",
    "#\n",
    "# Sample other language code:\n",
    "#\n",
    "# PHP:\n",
    "# <?php  \n",
    "# for ($x = 0; $x <= 10; $x++) {\n",
    "#   echo \"The number is: $x <br>\";\n",
    "# }\n",
    "# PERL:\n",
    "# while (my $file = $iter->()) {\n",
    "#    next if $file->is_dir();\n",
    "#    print \"$file\\n\";\n",
    "#}\n",
    "#\n",
    "##!/usr/local/bin/perl\n",
    "# \n",
    "#$a = 100;\n",
    "## check the boolean condition using if statement\n",
    "#if( $a  ==  20 ) {\n",
    "#   # if condition is true then print the following\n",
    "#   printf \"a has a value which is 20\\n\";\n",
    "#} elsif( $a ==  30 ) {\n",
    "#   # if condition is true then print the following\n",
    "#   printf \"a has a value which is 30\\n\";\n",
    "#} else {\n",
    "#   # if none of the above conditions is true\n",
    "#   printf \"a has a value which is $a\\n\";\n",
    "#}\n",
    "#\n",
    "# IDEs automatically indent after :\n",
    "\n",
    "\n",
    "#get user input\n",
    "name=input(\"Please enter your name: \")\n",
    "age = input(\"How old are you, {0}?\".format(name))\n",
    "print(age)"
   ]
  },
  {
   "cell_type": "code",
   "execution_count": null,
   "metadata": {},
   "outputs": [],
   "source": [
    "#force int\n",
    "name=input(\"Please enter your name: \")\n",
    "age = int(input(\"How old are you, {0}?\".format(name)))\n",
    "print(age)"
   ]
  },
  {
   "cell_type": "code",
   "execution_count": null,
   "metadata": {},
   "outputs": [],
   "source": [
    "#first control structure\n",
    "name=input(\"Please enter your name: \")\n",
    "age = int(input(\"How old are you, {0}?\".format(name)))\n",
    "if age >= 18:\n",
    "    print(\"You are legally prosecutable\")\n",
    "#else:\n",
    "#    print(\"Still {} years of freedom.\".format(18 - age))\n",
    "#    print(\"I'm watching you, anyway\")\n"
   ]
  },
  {
   "cell_type": "code",
   "execution_count": null,
   "metadata": {},
   "outputs": [],
   "source": [
    "#guess 1\n",
    "print(20*'#')\n",
    "print(\"Guess a number between 1 and 10\")\n",
    "print(20*'#')\n",
    "guess = int(input())\n",
    "\n",
    "\n",
    "if guess < 5:\n",
    "    print(\"guess higher\")\n",
    "    guess = int(input())\n",
    "    if guess == 5:   # == vs =\n",
    "        print(\"well done, you guessed it\")\n",
    "    else:\n",
    "        print(\"Sorry, you have not guessed correctly\")\n",
    "elif guess > 5:\n",
    "    print(\"guess lower\")\n",
    "    guess = int(input())\n",
    "    if guess == 5:\n",
    "        print(\"well done, you guessed it\")\n",
    "    else:\n",
    "        print(\"Sorry, you have not guessed correctly\")\n",
    "else:\n",
    "    print(\"what a luck, you got it on your first gues\")"
   ]
  },
  {
   "cell_type": "code",
   "execution_count": null,
   "metadata": {},
   "outputs": [],
   "source": [
    "guess = int(input())\n",
    "\n",
    "#but do we really want to use the same code multiple times?\n",
    "if guess != 5:\n",
    "    if guess < 5:\n",
    "        print(\"please, guess higher\")\n",
    "    else:\n",
    "        print(\"please, guess lower\")\n",
    "    guess = int(input())\n",
    "    if guess == 5:\n",
    "        print(\"that's it, you got it\")    \n",
    "    else:\n",
    "        print(\"Sorry, bad luck\")\n",
    "else:\n",
    "    print(\"You got it first time\")"
   ]
  },
  {
   "cell_type": "code",
   "execution_count": null,
   "metadata": {},
   "outputs": [],
   "source": [
    "# we can test on more conditions\n",
    "\n",
    "\n",
    "age = int(input(\"How old are you?\"))\n",
    "if age >= 16 and age <= 65: #if (age >= 16) and (age <= 65):\n",
    "    #there's a difference between <= and <\n",
    "    #if 16 <= age <= 65\n",
    "    print('have a good day at work')"
   ]
  },
  {
   "cell_type": "code",
   "execution_count": null,
   "metadata": {},
   "outputs": [],
   "source": [
    "#revert conditions\n",
    "\n",
    "age = int(input(\"How old are you?\"))\n",
    "if age < 16 or age > 65: \n",
    "    print(\"That's life, enjoy it\") #notice alternating \" and '\n",
    "else:\n",
    "    print('have a good day at work')"
   ]
  },
  {
   "cell_type": "code",
   "execution_count": null,
   "metadata": {},
   "outputs": [],
   "source": [
    "# a note on Boolean\n",
    "\n",
    "a = 'False'\n",
    "b = False\n",
    "#c = false\n",
    "d = 1 #but false with al other numbers :)\n",
    "e = 0\n",
    "f = 'porco'\n",
    "g = None\n",
    "\n",
    "\n",
    "def verify_boolean_is_true(var):\n",
    "   return var == True \n",
    "\n",
    "print(\"a --> {}\".format(verify_boolean_is_true(a)))\n",
    "print(\"b --> {}\".format(verify_boolean_is_true(b)))\n",
    "print(\"d --> {}\".format(verify_boolean_is_true(d)))\n",
    "print(\"e --> {}\".format(verify_boolean_is_true(e)))\n",
    "print(\"f --> {}\".format(verify_boolean_is_true(f)))\n",
    "print(\"g --> {}\".format(verify_boolean_is_true(g)))\n",
    "\n",
    "if a:\n",
    "    print(\"OK\")\n",
    "if g:\n",
    "    print(\"OK\")\n",
    "else: \n",
    "    print('ko')\n",
    "\n",
    "    \n",
    "    \n",
    "\n",
    "#not\n",
    "print(not False)"
   ]
  },
  {
   "cell_type": "code",
   "execution_count": null,
   "metadata": {},
   "outputs": [],
   "source": [
    "bool(a),bool(b),bool([]),bool({}),bool(''),bool(()),bool('ciao')\n"
   ]
  },
  {
   "cell_type": "code",
   "execution_count": null,
   "metadata": {},
   "outputs": [],
   "source": [
    "text = \"ediolognomomongoloide\"\n",
    "\n",
    "letter = input('Enter a letter')\n",
    "if letter in text:\n",
    "    print('the letter is there')\n",
    "else:\n",
    "    print(\"nope, we don't have that\")"
   ]
  },
  {
   "cell_type": "code",
   "execution_count": null,
   "metadata": {},
   "outputs": [],
   "source": [
    "#write a function that asks name and age\n",
    "#if the person is between 18 and 30 \n",
    "#print a message of welcome\n",
    "#otherwise threaten them of caling the garda\n",
    "\n"
   ]
  }
 ],
 "metadata": {
  "kernelspec": {
   "display_name": "Python 3",
   "language": "python",
   "name": "python3"
  },
  "language_info": {
   "codemirror_mode": {
    "name": "ipython",
    "version": 3
   },
   "file_extension": ".py",
   "mimetype": "text/x-python",
   "name": "python",
   "nbconvert_exporter": "python",
   "pygments_lexer": "ipython3",
   "version": "3.9.0"
  }
 },
 "nbformat": 4,
 "nbformat_minor": 2
}
