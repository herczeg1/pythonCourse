{
 "cells": [
  {
   "cell_type": "code",
   "execution_count": 8,
   "metadata": {},
   "outputs": [
    {
     "name": "stdout",
     "output_type": "stream",
     "text": [
      "hello\n"
     ]
    }
   ],
   "source": [
    "print('hello')"
   ]
  },
  {
   "cell_type": "code",
   "execution_count": 9,
   "metadata": {},
   "outputs": [
    {
     "name": "stdout",
     "output_type": "stream",
     "text": [
      "i'm a test\n",
      "Hello manuel\n",
      "mario\n"
     ]
    }
   ],
   "source": [
    "def test():\n",
    "    print(\"i'm a test\")\n",
    "\n",
    "your_name = \"mario\"\n",
    "\n",
    "def say_hello(your_name):\n",
    "    print(\"Hello \" + your_name)  #beware of those quotes \n",
    "\n",
    "test()\n",
    "say_hello('manuel')\n",
    "print(your_name)"
   ]
  },
  {
   "cell_type": "code",
   "execution_count": 16,
   "metadata": {},
   "outputs": [
    {
     "name": "stdout",
     "output_type": "stream",
     "text": [
      " function:  Hello manuel\n"
     ]
    }
   ],
   "source": [
    "def say_hello_ret(your_name):\n",
    "    return(\"Hello \" + your_name)\n",
    "\n",
    "my_string = say_hello_ret('manuel')\n",
    "print(\" function:  \" + say_hello_ret('manuel'))"
   ]
  },
  {
   "cell_type": "code",
   "execution_count": 19,
   "metadata": {},
   "outputs": [
    {
     "name": "stdout",
     "output_type": "stream",
     "text": [
      "odd\n"
     ]
    }
   ],
   "source": [
    "def is_it_even(number):\n",
    "    remainder = number % 2\n",
    "    if not remainder:\n",
    "        return True\n",
    "    return False\n",
    "\n",
    "\n",
    "if is_it_even(3):\n",
    "    print(\"even\")\n",
    "else:\n",
    "    print(\"odd\")\n",
    "    \n"
   ]
  },
  {
   "cell_type": "code",
   "execution_count": null,
   "metadata": {},
   "outputs": [],
   "source": []
  }
 ],
 "metadata": {
  "kernelspec": {
   "display_name": "Python 3",
   "language": "python",
   "name": "python3"
  },
  "language_info": {
   "codemirror_mode": {
    "name": "ipython",
    "version": 3
   },
   "file_extension": ".py",
   "mimetype": "text/x-python",
   "name": "python",
   "nbconvert_exporter": "python",
   "pygments_lexer": "ipython3",
   "version": "3.9.0"
  }
 },
 "nbformat": 4,
 "nbformat_minor": 2
}
